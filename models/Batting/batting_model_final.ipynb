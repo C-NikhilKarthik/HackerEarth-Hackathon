{
 "cells": [
  {
   "cell_type": "code",
   "execution_count": 9,
   "metadata": {},
   "outputs": [],
   "source": [
    "import pandas as pd\n",
    "from sklearn.metrics import r2_score\n",
    "import joblib\n",
    "\n",
    "data = pd.read_csv('encoded_batting.csv')\n",
    "\n",
    "\n",
    "\n",
    "X = data[['batsmen_encoded', 'bowler_encoded', 'no_of_balls']]\n",
    "\n",
    "y = data['runs_scored_against_bowler']\n"
   ]
  },
  {
   "cell_type": "code",
   "execution_count": 10,
   "metadata": {},
   "outputs": [],
   "source": [
    "from sklearn.model_selection import train_test_split\n",
    "\n",
    "X_train, X_test, y_train, y_test = train_test_split(X, y, test_size=0.2, random_state=42)"
   ]
  },
  {
   "cell_type": "code",
   "execution_count": 11,
   "metadata": {},
   "outputs": [],
   "source": [
    "from sklearn.linear_model import LinearRegression\n",
    "degree=3\n",
    "\n",
    "\n",
    "model=LinearRegression()"
   ]
  },
  {
   "cell_type": "code",
   "execution_count": 14,
   "metadata": {},
   "outputs": [
    {
     "name": "stdout",
     "output_type": "stream",
     "text": [
      "R2 Score (Test): 70.68%\n"
     ]
    }
   ],
   "source": [
    "model.fit(X_train, y_train)\n",
    "\n",
    "joblib.dump(model,'Multiple_regression.pkl')\n",
    "\n",
    "\n",
    "\n",
    "model2=joblib.load('Multiple_regression.pkl')\n",
    "\n",
    "y_pred_lin=model2.predict(X_test)\n",
    "\n",
    "\n",
    "r2 = r2_score(y_test, y_pred_lin)\n",
    "\n",
    "accuracy_percentage = r2 * 100\n",
    "\n",
    "print(f'R2 Score (Test): {accuracy_percentage:.2f}%')"
   ]
  },
  {
   "cell_type": "code",
   "execution_count": null,
   "metadata": {},
   "outputs": [],
   "source": []
  }
 ],
 "metadata": {
  "kernelspec": {
   "display_name": "Python 3",
   "language": "python",
   "name": "python3"
  },
  "language_info": {
   "codemirror_mode": {
    "name": "ipython",
    "version": 3
   },
   "file_extension": ".py",
   "mimetype": "text/x-python",
   "name": "python",
   "nbconvert_exporter": "python",
   "pygments_lexer": "ipython3",
   "version": "3.10.5"
  }
 },
 "nbformat": 4,
 "nbformat_minor": 2
}
