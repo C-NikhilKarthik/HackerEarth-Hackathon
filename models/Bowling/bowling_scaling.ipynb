{
 "cells": [
  {
   "cell_type": "code",
   "execution_count": 1,
   "metadata": {},
   "outputs": [],
   "source": [
    "import pandas as pd\n",
    "import numpy as np"
   ]
  },
  {
   "cell_type": "code",
   "execution_count": 2,
   "metadata": {},
   "outputs": [],
   "source": [
    "df =  pd.read_csv(\"1.csv\")"
   ]
  },
  {
   "cell_type": "code",
   "execution_count": 3,
   "metadata": {},
   "outputs": [
    {
     "data": {
      "text/plain": [
       "(28078, 7)"
      ]
     },
     "execution_count": 3,
     "metadata": {},
     "output_type": "execute_result"
    }
   ],
   "source": [
    "df.shape"
   ]
  },
  {
   "cell_type": "code",
   "execution_count": 4,
   "metadata": {},
   "outputs": [
    {
     "data": {
      "text/plain": [
       "match_id         0\n",
       "venue            0\n",
       "innings          0\n",
       "batting_team     0\n",
       "bowler           0\n",
       "wickets_taken    0\n",
       "economy          0\n",
       "dtype: int64"
      ]
     },
     "execution_count": 4,
     "metadata": {},
     "output_type": "execute_result"
    }
   ],
   "source": [
    "df.isnull().sum()"
   ]
  },
  {
   "cell_type": "code",
   "execution_count": 5,
   "metadata": {},
   "outputs": [
    {
     "data": {
      "text/plain": [
       "match_id           int64\n",
       "venue             object\n",
       "innings            int64\n",
       "batting_team      object\n",
       "bowler            object\n",
       "wickets_taken      int64\n",
       "economy          float64\n",
       "dtype: object"
      ]
     },
     "execution_count": 5,
     "metadata": {},
     "output_type": "execute_result"
    }
   ],
   "source": [
    "df.dtypes"
   ]
  },
  {
   "cell_type": "code",
   "execution_count": 6,
   "metadata": {},
   "outputs": [
    {
     "data": {
      "text/plain": [
       "Harare Sports Club                                 1376\n",
       "Shere Bangla National Stadium                      1102\n",
       "Dubai International Cricket Stadium                 573\n",
       "R Premadasa Stadium                                 558\n",
       "Sheikh Zayed Stadium                                544\n",
       "                                                   ... \n",
       "Nahar Singh Stadium, Faridabad                        8\n",
       "The Royal & Sun Alliance County Ground, Bristol       8\n",
       "Darren Sammy National Cricket Stadium, St Lucia       7\n",
       "County Ground, Bristol                                5\n",
       "Queen's Park Oval                                     4\n",
       "Name: venue, Length: 293, dtype: int64"
      ]
     },
     "execution_count": 6,
     "metadata": {},
     "output_type": "execute_result"
    }
   ],
   "source": [
    "df[\"venue\"].value_counts()"
   ]
  },
  {
   "cell_type": "code",
   "execution_count": 7,
   "metadata": {},
   "outputs": [
    {
     "name": "stderr",
     "output_type": "stream",
     "text": [
      "C:\\Users\\Karthik Avinash\\AppData\\Local\\Temp\\ipykernel_20120\\1134722465.py:1: FutureWarning: The default value of numeric_only in DataFrame.corr is deprecated. In a future version, it will default to False. Select only valid columns or specify the value of numeric_only to silence this warning.\n",
      "  df.corr()\n"
     ]
    },
    {
     "data": {
      "text/html": [
       "<div>\n",
       "<style scoped>\n",
       "    .dataframe tbody tr th:only-of-type {\n",
       "        vertical-align: middle;\n",
       "    }\n",
       "\n",
       "    .dataframe tbody tr th {\n",
       "        vertical-align: top;\n",
       "    }\n",
       "\n",
       "    .dataframe thead th {\n",
       "        text-align: right;\n",
       "    }\n",
       "</style>\n",
       "<table border=\"1\" class=\"dataframe\">\n",
       "  <thead>\n",
       "    <tr style=\"text-align: right;\">\n",
       "      <th></th>\n",
       "      <th>match_id</th>\n",
       "      <th>innings</th>\n",
       "      <th>wickets_taken</th>\n",
       "      <th>economy</th>\n",
       "    </tr>\n",
       "  </thead>\n",
       "  <tbody>\n",
       "    <tr>\n",
       "      <th>match_id</th>\n",
       "      <td>1.000000</td>\n",
       "      <td>0.009347</td>\n",
       "      <td>0.010176</td>\n",
       "      <td>0.039046</td>\n",
       "    </tr>\n",
       "    <tr>\n",
       "      <th>innings</th>\n",
       "      <td>0.009347</td>\n",
       "      <td>1.000000</td>\n",
       "      <td>-0.063527</td>\n",
       "      <td>-0.077359</td>\n",
       "    </tr>\n",
       "    <tr>\n",
       "      <th>wickets_taken</th>\n",
       "      <td>0.010176</td>\n",
       "      <td>-0.063527</td>\n",
       "      <td>1.000000</td>\n",
       "      <td>0.088358</td>\n",
       "    </tr>\n",
       "    <tr>\n",
       "      <th>economy</th>\n",
       "      <td>0.039046</td>\n",
       "      <td>-0.077359</td>\n",
       "      <td>0.088358</td>\n",
       "      <td>1.000000</td>\n",
       "    </tr>\n",
       "  </tbody>\n",
       "</table>\n",
       "</div>"
      ],
      "text/plain": [
       "               match_id   innings  wickets_taken   economy\n",
       "match_id       1.000000  0.009347       0.010176  0.039046\n",
       "innings        0.009347  1.000000      -0.063527 -0.077359\n",
       "wickets_taken  0.010176 -0.063527       1.000000  0.088358\n",
       "economy        0.039046 -0.077359       0.088358  1.000000"
      ]
     },
     "execution_count": 7,
     "metadata": {},
     "output_type": "execute_result"
    }
   ],
   "source": [
    "df.corr()"
   ]
  },
  {
   "cell_type": "code",
   "execution_count": 8,
   "metadata": {},
   "outputs": [],
   "source": [
    "# match_id = label_encode\n",
    "# venue = label_encode\n",
    "# batting_team = label_encode\n",
    "# bowler = label_encode"
   ]
  },
  {
   "cell_type": "code",
   "execution_count": 9,
   "metadata": {},
   "outputs": [
    {
     "name": "stdout",
     "output_type": "stream",
     "text": [
      "       match_id  venue  innings  batting_team  bowler  wickets_taken   economy\n",
      "0             1    152        1            17      14              0  5.500000\n",
      "1             1    152        1            17     466              1  7.102041\n",
      "2             1    152        1            17     519              3  3.870968\n",
      "3             1    152        1            17    1076              0  3.290323\n",
      "4             1    152        1            17    1078              1  2.400000\n",
      "...         ...    ...      ...           ...     ...            ...       ...\n",
      "28073      2379    234        1            17     470              1  4.721311\n",
      "28074      2379    234        1            17     667              3  6.000000\n",
      "28075      2379    234        1            17     803              3  4.500000\n",
      "28076      2379    234        1            17     854              2  7.125000\n",
      "28077      2379    234        1            17     897              1  5.387755\n",
      "\n",
      "[28078 rows x 7 columns]\n"
     ]
    }
   ],
   "source": [
    "from sklearn.preprocessing import LabelEncoder\n",
    "import joblib\n",
    "\n",
    "# Use LabelEncoder to encode categorical variables\n",
    "label_encoder_venue = LabelEncoder()\n",
    "label_encoder_batting_team = LabelEncoder()\n",
    "label_encoder_bowler = LabelEncoder()\n",
    "\n",
    "# Encode 'venue', 'batting_team', and 'bowler' columns\n",
    "df['venue'] = label_encoder_venue.fit_transform(df['venue'])\n",
    "df['batting_team'] = label_encoder_batting_team.fit_transform(df['batting_team'])\n",
    "df['bowler'] = label_encoder_bowler.fit_transform(df['bowler'])\n",
    "\n",
    "# Replace match_id with numbers starting from 1\n",
    "df['match_id'] = df.groupby('match_id').ngroup() + 1\n",
    "\n",
    "# Save the label_encoders for future reference\n",
    "joblib.dump(label_encoder_venue, 'label_encoder_venue.pkl')\n",
    "joblib.dump(label_encoder_batting_team, 'label_encoder_batting_team.pkl')\n",
    "joblib.dump(label_encoder_bowler, 'label_encoder_bowler.pkl')\n",
    "\n",
    "# Display the modified DataFrame\n",
    "print(df)\n"
   ]
  },
  {
   "cell_type": "code",
   "execution_count": 10,
   "metadata": {},
   "outputs": [
    {
     "data": {
      "text/plain": [
       "2379"
      ]
     },
     "execution_count": 10,
     "metadata": {},
     "output_type": "execute_result"
    }
   ],
   "source": [
    "len(df[\"match_id\"].unique())"
   ]
  },
  {
   "cell_type": "code",
   "execution_count": 12,
   "metadata": {},
   "outputs": [
    {
     "data": {
      "text/html": [
       "<div>\n",
       "<style scoped>\n",
       "    .dataframe tbody tr th:only-of-type {\n",
       "        vertical-align: middle;\n",
       "    }\n",
       "\n",
       "    .dataframe tbody tr th {\n",
       "        vertical-align: top;\n",
       "    }\n",
       "\n",
       "    .dataframe thead th {\n",
       "        text-align: right;\n",
       "    }\n",
       "</style>\n",
       "<table border=\"1\" class=\"dataframe\">\n",
       "  <thead>\n",
       "    <tr style=\"text-align: right;\">\n",
       "      <th></th>\n",
       "      <th>match_id</th>\n",
       "      <th>venue</th>\n",
       "      <th>innings</th>\n",
       "      <th>batting_team</th>\n",
       "      <th>bowler</th>\n",
       "      <th>wickets_taken</th>\n",
       "      <th>economy</th>\n",
       "    </tr>\n",
       "  </thead>\n",
       "  <tbody>\n",
       "    <tr>\n",
       "      <th>match_id</th>\n",
       "      <td>1.000000</td>\n",
       "      <td>0.032703</td>\n",
       "      <td>0.009177</td>\n",
       "      <td>0.062426</td>\n",
       "      <td>-0.020215</td>\n",
       "      <td>0.009083</td>\n",
       "      <td>0.041858</td>\n",
       "    </tr>\n",
       "    <tr>\n",
       "      <th>venue</th>\n",
       "      <td>0.032703</td>\n",
       "      <td>1.000000</td>\n",
       "      <td>-0.002049</td>\n",
       "      <td>-0.024293</td>\n",
       "      <td>0.007393</td>\n",
       "      <td>-0.001577</td>\n",
       "      <td>0.008633</td>\n",
       "    </tr>\n",
       "    <tr>\n",
       "      <th>innings</th>\n",
       "      <td>0.009177</td>\n",
       "      <td>-0.002049</td>\n",
       "      <td>1.000000</td>\n",
       "      <td>0.018129</td>\n",
       "      <td>0.007080</td>\n",
       "      <td>-0.063527</td>\n",
       "      <td>-0.077359</td>\n",
       "    </tr>\n",
       "    <tr>\n",
       "      <th>batting_team</th>\n",
       "      <td>0.062426</td>\n",
       "      <td>-0.024293</td>\n",
       "      <td>0.018129</td>\n",
       "      <td>1.000000</td>\n",
       "      <td>-0.004152</td>\n",
       "      <td>0.018710</td>\n",
       "      <td>-0.021362</td>\n",
       "    </tr>\n",
       "    <tr>\n",
       "      <th>bowler</th>\n",
       "      <td>-0.020215</td>\n",
       "      <td>0.007393</td>\n",
       "      <td>0.007080</td>\n",
       "      <td>-0.004152</td>\n",
       "      <td>1.000000</td>\n",
       "      <td>0.000758</td>\n",
       "      <td>0.010665</td>\n",
       "    </tr>\n",
       "    <tr>\n",
       "      <th>wickets_taken</th>\n",
       "      <td>0.009083</td>\n",
       "      <td>-0.001577</td>\n",
       "      <td>-0.063527</td>\n",
       "      <td>0.018710</td>\n",
       "      <td>0.000758</td>\n",
       "      <td>1.000000</td>\n",
       "      <td>0.088358</td>\n",
       "    </tr>\n",
       "    <tr>\n",
       "      <th>economy</th>\n",
       "      <td>0.041858</td>\n",
       "      <td>0.008633</td>\n",
       "      <td>-0.077359</td>\n",
       "      <td>-0.021362</td>\n",
       "      <td>0.010665</td>\n",
       "      <td>0.088358</td>\n",
       "      <td>1.000000</td>\n",
       "    </tr>\n",
       "  </tbody>\n",
       "</table>\n",
       "</div>"
      ],
      "text/plain": [
       "               match_id     venue   innings  batting_team    bowler  \\\n",
       "match_id       1.000000  0.032703  0.009177      0.062426 -0.020215   \n",
       "venue          0.032703  1.000000 -0.002049     -0.024293  0.007393   \n",
       "innings        0.009177 -0.002049  1.000000      0.018129  0.007080   \n",
       "batting_team   0.062426 -0.024293  0.018129      1.000000 -0.004152   \n",
       "bowler        -0.020215  0.007393  0.007080     -0.004152  1.000000   \n",
       "wickets_taken  0.009083 -0.001577 -0.063527      0.018710  0.000758   \n",
       "economy        0.041858  0.008633 -0.077359     -0.021362  0.010665   \n",
       "\n",
       "               wickets_taken   economy  \n",
       "match_id            0.009083  0.041858  \n",
       "venue              -0.001577  0.008633  \n",
       "innings            -0.063527 -0.077359  \n",
       "batting_team        0.018710 -0.021362  \n",
       "bowler              0.000758  0.010665  \n",
       "wickets_taken       1.000000  0.088358  \n",
       "economy             0.088358  1.000000  "
      ]
     },
     "execution_count": 12,
     "metadata": {},
     "output_type": "execute_result"
    }
   ],
   "source": [
    "df.corr()"
   ]
  },
  {
   "cell_type": "code",
   "execution_count": 16,
   "metadata": {},
   "outputs": [],
   "source": [
    "# Assuming df is your DataFrame\n",
    "bins = [0, 10, 20, 36]  # Adjust the bins based on economy values\n",
    "labels = ['Best Bowler', 'Better Bowler', 'Good Bowler']\n",
    "\n",
    "# Create a new column 'economy_category' based on the bins and labels\n",
    "df['economy_category'] = pd.cut(df['economy'], bins=bins, labels=labels, include_lowest=True)"
   ]
  },
  {
   "cell_type": "code",
   "execution_count": 17,
   "metadata": {},
   "outputs": [
    {
     "data": {
      "text/plain": [
       "Best Bowler      24762\n",
       "Better Bowler     2498\n",
       "Good Bowler        818\n",
       "Name: economy_category, dtype: int64"
      ]
     },
     "execution_count": 17,
     "metadata": {},
     "output_type": "execute_result"
    }
   ],
   "source": [
    "df[\"economy_category\"].value_counts()"
   ]
  },
  {
   "cell_type": "code",
   "execution_count": 18,
   "metadata": {},
   "outputs": [
    {
     "data": {
      "text/plain": [
       "Index(['match_id', 'venue', 'innings', 'batting_team', 'bowler',\n",
       "       'wickets_taken', 'economy', 'economy_category'],\n",
       "      dtype='object')"
      ]
     },
     "execution_count": 18,
     "metadata": {},
     "output_type": "execute_result"
    }
   ],
   "source": [
    "df.columns"
   ]
  },
  {
   "cell_type": "code",
   "execution_count": 21,
   "metadata": {},
   "outputs": [],
   "source": [
    "df = df.drop(\"economy\",axis = 1)"
   ]
  },
  {
   "cell_type": "code",
   "execution_count": 22,
   "metadata": {},
   "outputs": [
    {
     "data": {
      "text/plain": [
       "Index(['match_id', 'venue', 'innings', 'batting_team', 'bowler',\n",
       "       'wickets_taken', 'economy_category'],\n",
       "      dtype='object')"
      ]
     },
     "execution_count": 22,
     "metadata": {},
     "output_type": "execute_result"
    }
   ],
   "source": [
    "df.columns"
   ]
  },
  {
   "cell_type": "code",
   "execution_count": 23,
   "metadata": {},
   "outputs": [],
   "source": [
    "df.to_csv(\"2.csv\",index=False)"
   ]
  },
  {
   "cell_type": "code",
   "execution_count": null,
   "metadata": {},
   "outputs": [],
   "source": []
  }
 ],
 "metadata": {
  "kernelspec": {
   "display_name": "Python 3 (ipykernel)",
   "language": "python",
   "name": "python3"
  }
 },
 "nbformat": 4,
 "nbformat_minor": 2
}
